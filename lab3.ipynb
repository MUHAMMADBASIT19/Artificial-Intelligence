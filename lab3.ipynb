{
  "nbformat": 4,
  "nbformat_minor": 0,
  "metadata": {
    "colab": {
      "provenance": []
    },
    "kernelspec": {
      "name": "python3",
      "display_name": "Python 3"
    },
    "language_info": {
      "name": "python"
    }
  },
  "cells": [
    {
      "cell_type": "markdown",
      "source": [
        "\"Dictionary\""
      ],
      "metadata": {
        "id": "Ga-bWC0rJUWl"
      }
    },
    {
      "cell_type": "code",
      "source": [
        "from collections import deque\n",
        "\n",
        "# Updated graph with renamed cities\n",
        "pakistan_cities = {\n",
        "    'Karachi': ['Faisalabad'],\n",
        "    'Faisalabad': ['Karachi', 'Rawalpindi'],\n",
        "    'Rawalpindi': ['Faisalabad', 'Sialkot', 'Bahawalpur'],\n",
        "    'Sialkot': ['Rawalpindi', 'Lahore'],\n",
        "    'Bahawalpur': ['Rawalpindi'],\n",
        "    'Lahore': ['Sialkot', 'Islamabad'],\n",
        "    'Islamabad': ['Lahore', 'Peshawar'],\n",
        "    'Peshawar': ['Islamabad']\n",
        "}\n",
        "\n",
        "# BFS function to find the shortest path\n",
        "def bfs_shortest_path(graph, start, goal):\n",
        "    queue = deque([[start]])  # Queue to store paths\n",
        "\n",
        "    visited = set()  # Set to track visited cities\n",
        "\n",
        "    while queue:\n",
        "        path = queue.popleft()  # Pop the first path\n",
        "        current_city = path[-1]  # Get the last city in the path\n",
        "\n",
        "        # If the goal is reached, return the path\n",
        "        if current_city == goal:\n",
        "            return path\n",
        "\n",
        "        if current_city not in visited:\n",
        "            visited.add(current_city)  # Mark the city as visited\n",
        "\n",
        "            # Explore all the neighboring cities\n",
        "            for neighbor in graph.get(current_city, []):\n",
        "                # Create a new path with the neighbor\n",
        "                new_path = list(path)\n",
        "                new_path.append(neighbor)\n",
        "\n",
        "                # Add the new path to the queue for further exploration\n",
        "                queue.append(new_path)\n",
        "\n",
        "    return None  # Return None if no path is found\n",
        "\n",
        "# DFS function to find any path\n",
        "def dfs_path(graph, start, goal, path=None, visited=None):\n",
        "    if path is None:\n",
        "        path = []\n",
        "    if visited is None:\n",
        "        visited = set()\n",
        "\n",
        "    path.append(start)  # Add the current city to the path\n",
        "    visited.add(start)  # Mark it as visited\n",
        "\n",
        "    if start == goal:  # If the goal is reached, return the path\n",
        "        return path\n",
        "\n",
        "    # Explore each neighbor recursively\n",
        "    for neighbor in graph.get(start, []):\n",
        "        if neighbor not in visited:\n",
        "            result = dfs_path(graph, neighbor, goal, path.copy(), visited.copy())\n",
        "\n",
        "            # If a valid path is found, return it\n",
        "            if result:\n",
        "                return result\n",
        "\n",
        "    return None  # Return None if no path is found\n",
        "\n",
        "# -------------------------------------------\n",
        "# Testing the functions with updated cities\n",
        "# -------------------------------------------\n",
        "start_city = \"Karachi\"\n",
        "goal_city = \"Peshawar\"\n",
        "\n",
        "# Find the shortest path using BFS\n",
        "bfs_result = bfs_shortest_path(pakistan_cities, start_city, goal_city)\n",
        "print(\"BFS Shortest Path from Karachi to Peshawar:\", bfs_result)\n",
        "\n",
        "# Find any path using DFS\n",
        "dfs_result = dfs_path(pakistan_cities, start_city, goal_city)\n",
        "print(\"DFS Path from Karachi to Peshawar:\", dfs_result)\n"
      ],
      "metadata": {
        "colab": {
          "base_uri": "https://localhost:8080/"
        },
        "id": "967pfvedJ76t",
        "outputId": "c526f2dd-0d76-4b04-9330-3049f1494fa9"
      },
      "execution_count": 5,
      "outputs": [
        {
          "output_type": "stream",
          "name": "stdout",
          "text": [
            "BFS Shortest Path from Karachi to Peshawar: ['Karachi', 'Faisalabad', 'Rawalpindi', 'Sialkot', 'Lahore', 'Islamabad', 'Peshawar']\n",
            "DFS Path from Karachi to Peshawar: ['Karachi', 'Faisalabad', 'Rawalpindi', 'Sialkot', 'Lahore', 'Islamabad', 'Peshawar']\n"
          ]
        }
      ]
    }
  ]
}